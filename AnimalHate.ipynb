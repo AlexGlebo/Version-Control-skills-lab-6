{
 "cells": [
  {
   "cell_type": "code",
   "execution_count": 6,
   "metadata": {},
   "outputs": [
    {
     "name": "stdout",
     "output_type": "stream",
     "text": [
      "Alex's least favorite animal is: Alex\n"
     ]
    },
    {
     "ename": "IndexError",
     "evalue": "list index out of range",
     "output_type": "error",
     "traceback": [
      "\u001b[1;31m---------------------------------------------------------------------------\u001b[0m",
      "\u001b[1;31mIndexError\u001b[0m                                Traceback (most recent call last)",
      "\u001b[1;32mc:\\Users\\18484\\Documents\\CS1501\\Version-Control-skills-lab-6\\Untitled.ipynb Cell 1'\u001b[0m in \u001b[0;36m<cell line: 7>\u001b[1;34m()\u001b[0m\n\u001b[0;32m      <a href='vscode-notebook-cell:/c%3A/Users/18484/Documents/CS1501/Version-Control-skills-lab-6/Untitled.ipynb#ch0000000?line=4'>5</a>\u001b[0m animal \u001b[39m=\u001b[39m \u001b[39minput\u001b[39m(\u001b[39m\"\u001b[39m\u001b[39mWhat is your least favorite animal?\u001b[39m\u001b[39m\"\u001b[39m)\n\u001b[0;32m      <a href='vscode-notebook-cell:/c%3A/Users/18484/Documents/CS1501/Version-Control-skills-lab-6/Untitled.ipynb#ch0000000?line=5'>6</a>\u001b[0m \u001b[39mprint\u001b[39m(name, \u001b[39m\"\u001b[39m\u001b[39m'\u001b[39m\u001b[39ms least favorite animal is: \u001b[39m\u001b[39m\"\u001b[39m, animal, sep\u001b[39m=\u001b[39m\u001b[39m'\u001b[39m\u001b[39m'\u001b[39m)\n\u001b[1;32m----> <a href='vscode-notebook-cell:/c%3A/Users/18484/Documents/CS1501/Version-Control-skills-lab-6/Untitled.ipynb#ch0000000?line=6'>7</a>\u001b[0m companimal \u001b[39m=\u001b[39m \u001b[39mlist\u001b[39;49m[randint(\u001b[39m0\u001b[39;49m,\u001b[39mlen\u001b[39;49m(\u001b[39mlist\u001b[39;49m))]\n\u001b[0;32m      <a href='vscode-notebook-cell:/c%3A/Users/18484/Documents/CS1501/Version-Control-skills-lab-6/Untitled.ipynb#ch0000000?line=7'>8</a>\u001b[0m \u001b[39mprint\u001b[39m(\u001b[39m'\u001b[39m\u001b[39mThe computers least favorite animal is: \u001b[39m\u001b[39m'\u001b[39m, companimal, sep\u001b[39m=\u001b[39m\u001b[39m'\u001b[39m\u001b[39m'\u001b[39m)\n\u001b[0;32m      <a href='vscode-notebook-cell:/c%3A/Users/18484/Documents/CS1501/Version-Control-skills-lab-6/Untitled.ipynb#ch0000000?line=8'>9</a>\u001b[0m \u001b[39mif\u001b[39;00m animal \u001b[39m==\u001b[39m companimal: \n",
      "\u001b[1;31mIndexError\u001b[0m: list index out of range"
     ]
    }
   ],
   "source": [
    "from random import randint \n",
    "\n",
    "list = ['Elephant', 'Cat', 'Dog', 'Squirrel', 'Crow', 'Frog', 'Monkey', 'Ape', 'Lizard', 'Ox', 'Buffalo', 'Tucan', 'Otter', 'Bison', 'Penguin', 'Giraffe', 'Bunny', 'Fish', 'Dolphin', 'Turtle', 'Crocodile']\n",
    "name = input(\"Please enter your name\")\n",
    "animal = input(\"What is your least favorite animal?\")\n",
    "print(name, \"'s least favorite animal is: \", animal, sep='')\n",
    "companimal = list[randint(0,len(list)-1)]\n",
    "print('The computers least favorite animal is: ', companimal, sep='')\n",
    "if animal == companimal: \n",
    "    print(\"You both like the same animal!\")\n",
    "\n"
   ]
  },
  {
   "cell_type": "code",
   "execution_count": null,
   "metadata": {},
   "outputs": [],
   "source": []
  }
 ],
 "metadata": {
  "kernelspec": {
   "display_name": "Python 3",
   "language": "python",
   "name": "python3"
  },
  "language_info": {
   "codemirror_mode": {
    "name": "ipython",
    "version": 3
   },
   "file_extension": ".py",
   "mimetype": "text/x-python",
   "name": "python",
   "nbconvert_exporter": "python",
   "pygments_lexer": "ipython3",
   "version": "3.10.1"
  }
 },
 "nbformat": 4,
 "nbformat_minor": 4
}
